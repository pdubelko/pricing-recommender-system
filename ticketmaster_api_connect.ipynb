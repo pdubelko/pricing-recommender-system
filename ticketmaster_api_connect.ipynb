{
 "cells": [
  {
   "cell_type": "code",
   "execution_count": 5,
   "id": "10f8723e-9d3a-4be9-96ee-f22fcf2576d6",
   "metadata": {},
   "outputs": [],
   "source": [
    "import requests\n",
    "import json\n",
    "import datetime\n",
    "\n",
    "def prices(id):\n",
    "    key=\"AAoJrJh1GwqctKmCxMVAgG6AOiLPlaRz\"\n",
    "    Request_Params={\n",
    "    'apikey':key\n",
    "    }\n",
    "    link='https://app.ticketmaster.com/commerce/v2/events/' + id + '/offers'+'.json?{apikey' + '}'\n",
    "    resp=requests.get(url=link,params=Request_Params)\n",
    "    jsonresp = resp.json()\n",
    "    return jsonresp\n",
    "\n",
    "\n",
    "def eventer(artist):\n",
    "    link='https://app.ticketmaster.com/discovery/v2/events.json?size=20&keyword=' + artist + '&sort=relevance,desc&apikey=sPYngrqc3a29GkMAd2SOBDuPm7VdHT9o'\n",
    "    resp=requests.get(link)\n",
    "    response=resp.text\n",
    "    jsonresp = resp.json()\n",
    "    \n",
    "    events = []\n",
    "    for i in range(len(jsonresp.get(u'_embedded').get(u'events'))):\n",
    "        eventids=jsonresp.get(u'_embedded').get(u'events')[i].get('id')\n",
    "        events.append(eventids)\n",
    "    return events\n",
    "    "
   ]
  },
  {
   "cell_type": "code",
   "execution_count": 33,
   "id": "f0fefd16-6317-486d-bdb8-8489e67b86f0",
   "metadata": {},
   "outputs": [
    {
     "data": {
      "text/plain": [
       "['G5dIZ9pCfOeCt',\n",
       " 'G5diZ9p5Qne4q',\n",
       " 'vvG1YZ9p1B-eIp',\n",
       " 'vvG10Z9pGDzt2e',\n",
       " 'G5vzZ9p2sKfge',\n",
       " 'vvG10Z9pN474Za',\n",
       " 'G5vfZ9pCp1sUg',\n",
       " 'G5vYZ9pCpmeff',\n",
       " 'G5diZ9p5Qce4P',\n",
       " 'G5eFZ9p2E2uKE',\n",
       " 'vvG1IZ9p5YsVht',\n",
       " 'vvG1zZ9p39noSZ',\n",
       " 'vvG1HZ9pk8jo1v',\n",
       " 'G5eVZ9pusf-FK',\n",
       " 'vvG1VZ9pGtSThi',\n",
       " 'vvG1bZ9p6e_67m',\n",
       " 'vvG1OZ9pClfw84',\n",
       " 'G5vzZ9pC-We9o',\n",
       " 'vvG1fZ9pG30pW8',\n",
       " 'G5vbZ9pCsB0Cr']"
      ]
     },
     "execution_count": 33,
     "metadata": {},
     "output_type": "execute_result"
    }
   ],
   "source": [
    "eventer('paramore')"
   ]
  },
  {
   "cell_type": "code",
   "execution_count": null,
   "id": "fd8f1831-4f49-4bfd-984c-e7128ac1d965",
   "metadata": {},
   "outputs": [],
   "source": []
  }
 ],
 "metadata": {
  "kernelspec": {
   "display_name": "Python 3 (ipykernel)",
   "language": "python",
   "name": "python3"
  },
  "language_info": {
   "codemirror_mode": {
    "name": "ipython",
    "version": 3
   },
   "file_extension": ".py",
   "mimetype": "text/x-python",
   "name": "python",
   "nbconvert_exporter": "python",
   "pygments_lexer": "ipython3",
   "version": "3.10.6"
  }
 },
 "nbformat": 4,
 "nbformat_minor": 5
}
